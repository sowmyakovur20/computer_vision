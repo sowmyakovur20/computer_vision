{
 "cells": [
  {
   "cell_type": "code",
   "execution_count": 1,
   "source": [
    "import cv2\n"
   ],
   "outputs": [],
   "metadata": {}
  },
  {
   "cell_type": "code",
   "execution_count": 2,
   "source": [
    "\n",
    "cap = cv2.VideoCapture(0)\n",
    "def cord(x,y):\n",
    "    return cv2.divide(x,255-y,scale=256)\n",
    "count =1\n",
    "while True:\n",
    "    success,img = cap.read()\n",
    "    imgGray = cv2.cvtColor(img,cv2.COLOR_BGR2GRAY)\n",
    "    imgGrayInv = 255-imgGray\n",
    "    imgBlur = cv2.GaussianBlur(imgGrayInv, ksize=(21, 21),sigmaX=5, sigmaY=0)\n",
    "    finalImg = cord                                                (imgGray,imgBlur)\n",
    "    cv2.imshow('Face',finalImg) # Sketched Image\n",
    "\n",
    "    key = cv2.waitKey(1)    \n",
    "    if key & 0xff==ord('q'):\n",
    "        break\n",
    "    if key & 0xff==32: # Press spacebar to take photo\n",
    "\n",
    "        filename = f'Sketches/Image {count}.jpg'\n",
    "        count+=1\n",
    "        cv2.imwrite(filename,finalImg)"
   ],
   "outputs": [],
   "metadata": {}
  }
 ],
 "metadata": {
  "kernelspec": {
   "name": "python3",
   "display_name": "Python 3.8.8 64-bit (conda)"
  },
  "language_info": {
   "codemirror_mode": {
    "name": "ipython",
    "version": 3
   },
   "file_extension": ".py",
   "mimetype": "text/x-python",
   "name": "python",
   "nbconvert_exporter": "python",
   "pygments_lexer": "ipython3",
   "version": "3.8.8"
  },
  "interpreter": {
   "hash": "dca0ade3e726a953b501b15e8e990130d2b7799f14cfd9f4271676035ebe5511"
  }
 },
 "nbformat": 4,
 "nbformat_minor": 5
}
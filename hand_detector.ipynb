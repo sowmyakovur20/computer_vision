{
 "cells": [
  {
   "cell_type": "code",
   "execution_count": 1,
   "id": "e0ce6453-38eb-4f49-8649-ec556a007ee7",
   "metadata": {},
   "outputs": [
    {
     "name": "stdout",
     "output_type": "stream",
     "text": [
      "Requirement already satisfied: opencv-python in /opt/anaconda3/lib/python3.8/site-packages (4.5.3.56)\n",
      "Requirement already satisfied: numpy>=1.17.3 in /opt/anaconda3/lib/python3.8/site-packages (from opencv-python) (1.20.1)\n"
     ]
    }
   ],
   "source": [
    "!pip install opencv-python"
   ]
  },
  {
   "cell_type": "code",
   "execution_count": 2,
   "id": "83282b64-eb7c-4ef5-8bfa-eea16c64ddc4",
   "metadata": {},
   "outputs": [],
   "source": [
    "import cv2"
   ]
  },
  {
   "cell_type": "code",
   "execution_count": null,
   "id": "4e27a4d8-7bf9-4da5-850c-c780ac5b9f7c",
   "metadata": {},
   "outputs": [],
   "source": [
    "from cvzone.HandTrackingModule import HandDetector\n",
    "\n",
    "c=cv2.VideoCapture(0)\n",
    "#create object detector\n",
    "detector= HandDetector(detectionCon=0.8)\n",
    "\n",
    "\n",
    "while True:\n",
    "\tsuccess,img=c.read()\n",
    "\thands,img= detector.findHands(img)#going to return img with drawing\n",
    "\t#for each hand we'll have info like Hand-->dict{lmList,boundingbox,center,type}\n",
    "\tif hands: \n",
    "\t\thand1=hands[0]#gives us first hand\n",
    "\t\tlmList1=hand1[\"lmList\"]# List of 21 landmarks\n",
    "\t\tbbox1=hand1[\"bbox\"]#x,y,w,h of bounding box\n",
    "\t\tcenterPoint1=hand1[\"center\"]#center of the hand cx,cy\n",
    "\t\thandType1=hand1[\"type\"]#left or right\n",
    "\t\tfinger1=detector.fingersUp(hand1)\n",
    "\t\tlength,info,img=detector.findDistance(lmList1[8],lmList1[12],img)\n",
    "\t\t \n",
    "\tif len(hands)==2:\n",
    "\t\thand2=hands[1]#gives us second hand\n",
    "\t\tlmList2=hand2[\"lmList\"]# List of  21 landmarks\n",
    "\t\tbbox2=hand2[\"bbox\"]#x,y,w,h of bounding box\n",
    "\t\tcenterPoint2=hand2[\"center\"]#center of the hand cx,cy\n",
    "\t\thandType2=hand2[\"type\"]#left or right\n",
    "\t\tfinger2=detector.fingersUp(hand2)\n",
    "\t\tlength,info,img=detector.findDistance(lmList1[8],lmList2[8],img)\n",
    "\t\tlength,info,img=detector.findDistance(centerPoint1,centerPoint2,img)\n",
    "\n",
    "\n",
    "\n",
    "\tcv2.imshow(\"Image\",img)\n",
    "\n",
    "\n",
    "\t#Wait for user input - q, then you will stop the loop\n",
    "\tkey_pressed = cv2.waitKey(1) & 0xFF #it will wait for 1 mili second bitwise and \n",
    "\tif key_pressed == ord('q'): #ord tells you ascii value of that character\n",
    "\t\tbreak\n",
    "\n",
    "cap.release()\n",
    "cv2.destroyALlWindows()"
   ]
  },
  {
   "cell_type": "code",
   "execution_count": null,
   "id": "cf17a616-cb36-46dc-b099-f28d673627e5",
   "metadata": {},
   "outputs": [],
   "source": []
  }
 ],
 "metadata": {
  "kernelspec": {
   "display_name": "Python 3",
   "language": "python",
   "name": "python3"
  },
  "language_info": {
   "codemirror_mode": {
    "name": "ipython",
    "version": 3
   },
   "file_extension": ".py",
   "mimetype": "text/x-python",
   "name": "python",
   "nbconvert_exporter": "python",
   "pygments_lexer": "ipython3",
   "version": "3.8.8"
  }
 },
 "nbformat": 4,
 "nbformat_minor": 5
}
